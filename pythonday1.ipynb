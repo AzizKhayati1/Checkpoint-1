{
 "cells": [
  {
   "cell_type": "code",
   "execution_count": 4,
   "id": "b9cf3a99-aeb6-47ec-ae68-078c9a71e214",
   "metadata": {},
   "outputs": [
    {
     "name": "stdout",
     "output_type": "stream",
     "text": [
      "Welcome to python world! Lets start coding\n"
     ]
    }
   ],
   "source": [
    "print ('Welcome to python world! Lets start coding' )"
   ]
  },
  {
   "cell_type": "code",
   "execution_count": null,
   "id": "a01a0be0-fab4-4fe4-a767-954d5da519e6",
   "metadata": {},
   "outputs": [],
   "source": []
  }
 ],
 "metadata": {
  "kernelspec": {
   "display_name": "Python 3",
   "language": "python",
   "name": "python3"
  },
  "language_info": {
   "codemirror_mode": {
    "name": "ipython",
    "version": 3
   },
   "file_extension": ".py",
   "mimetype": "text/x-python",
   "name": "python",
   "nbconvert_exporter": "python",
   "pygments_lexer": "ipython3",
   "version": "3.8.8"
  }
 },
 "nbformat": 4,
 "nbformat_minor": 5
}
